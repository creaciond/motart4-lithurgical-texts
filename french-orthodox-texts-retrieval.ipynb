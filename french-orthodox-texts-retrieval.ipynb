{
 "cells": [
  {
   "cell_type": "markdown",
   "metadata": {},
   "source": [
    "# Скачиваем французские богослужебные тексты\n",
    "\n",
    "**Задача:** обкачать [кусочек форума forum-orthodoxe.com](http://www.forum-orthodoxe.com/~forum/viewforum.php?f=8) и вытащить оттуда содержимое всех тем подраздела."
   ]
  },
  {
   "cell_type": "code",
   "execution_count": 1,
   "metadata": {},
   "outputs": [],
   "source": [
    "from bs4 import BeautifulSoup\n",
    "from lxml import html\n",
    "# tqdm нужен для визуализации прогресса, если его нет, это нестрашно\n",
    "from tqdm import tqdm\n",
    "from urllib import request\n",
    "\n",
    "import re\n",
    "import time"
   ]
  },
  {
   "cell_type": "markdown",
   "metadata": {},
   "source": [
    "## Базовые функции"
   ]
  },
  {
   "cell_type": "code",
   "execution_count": 14,
   "metadata": {},
   "outputs": [],
   "source": [
    "source_pages = [\"http://www.forum-orthodoxe.com/~forum/viewforum.php?f=8\",\n",
    "               \"http://www.forum-orthodoxe.com/~forum/viewforum.php?f=8&start=50\"]"
   ]
  },
  {
   "cell_type": "markdown",
   "metadata": {},
   "source": [
    "Сначала нужно получить содержимое страницы (любой!), чтобы с ней работать — с этим поможет _BeautifulSoup_. В дальнейшем, чтобы получить количество страниц в обсуждении, понадобятся ещё и XPath-выражения (о них понятно написано в [этой статье на Хабре](https://habr.com/ru/post/114772/), в качестве бонуса — скрины Windows XP из 2011), а с ними удобнее работать через _lxml,_ поэтому его тоже будем отдавать, но только если попросят (`needs_lxml=True`)."
   ]
  },
  {
   "cell_type": "code",
   "execution_count": 43,
   "metadata": {},
   "outputs": [],
   "source": [
    "def parse_page(page_url, needs_lxml=False):\n",
    "    \"\"\"Скачивает всё содержимое страницы.\n",
    "    \n",
    "    :arg page_url — (str) страница, которую нужно обработать\n",
    "    :arg needs_lxml — (bool, необязательный) нужен ли LMXL-вариант для работы с XPath-\n",
    "    выражениями\n",
    "    \n",
    "    :returns soup — (bs4.BeautifulSoup) готовое к парсингу содержимое\n",
    "    страницы\n",
    "    :returns page_tree — (lxml.html) готовое к работе содержимое страницы\n",
    "    для работы с xpath-выражениями\n",
    "    \"\"\"\n",
    "    user_agent = \"Mozilla/5.0 (Windows NT 6.1; Win64; x64)\"\n",
    "    req = request.Request(page_url, headers={\"User-Agent\":user_agent})\n",
    "    with request.urlopen(req) as response:\n",
    "        page = response.read().decode(\"utf-8\")\n",
    "        soup = BeautifulSoup(page, \"html.parser\")\n",
    "        if needs_lxml:\n",
    "            page_tree = html.fromstring(page)\n",
    "            return soup, page_tree\n",
    "        else:\n",
    "            return soup"
   ]
  },
  {
   "cell_type": "code",
   "execution_count": 10,
   "metadata": {},
   "outputs": [],
   "source": [
    "# это нужно для того, чтобы собрать ссылки на страницы веток форума\n",
    "base_url = \"http://www.forum-orthodoxe.com/~forum/\""
   ]
  },
  {
   "cell_type": "markdown",
   "metadata": {},
   "source": [
    "## Обрабатываем исходные страницы"
   ]
  },
  {
   "cell_type": "markdown",
   "metadata": {},
   "source": [
    "Для каждой из наших двух исходных страниц нужно сделать следующее:\n",
    "\n",
    "1) скачать страницу в двух форматах — BeautifulSoup и LXML;\n",
    "\n",
    "2) найти там все ссылки в ветки;\n",
    "\n",
    "3) для каждой ветки проверить — вдруг в ней больше одной страницы обсуждений? Если это так, то определить их количество по тегу `<li>` и сгенерировать ссылки на каждую страницу отдельно;\n",
    "\n",
    "4) сохранить результат работы в словарь, где ключ — это название ветки, а значение — список ссылок на все страницы обсуждения этой ветки."
   ]
  },
  {
   "cell_type": "code",
   "execution_count": 53,
   "metadata": {},
   "outputs": [],
   "source": [
    "def get_threads_and_pages(source_page, threads_hrefs):\n",
    "    \"\"\"Проходится по страничкам форума с темами, собирает ссылки на \n",
    "    все страницы тем.\n",
    "    \n",
    "    :arg source_page — (str) страничка, которые нужно обработать\n",
    "    :arg threads_hrefs — dict {str: list of str} список тем (заголовок) \n",
    "    и все страницы этой темы\n",
    "    \n",
    "    :returns threads_hrefs — dict {str: list of str} сдополненный список тем \n",
    "    и ссылок на страницы этой темы\"\"\"\n",
    "    source_soup, source_tree = parse_page(source_page, needs_lxml=True)\n",
    "    threads_raw = source_soup.find_all(\"a\", attrs={\"class\": \"topictitle\"})\n",
    "    for th_r in threads_raw:\n",
    "        th_title = th_r.get_text()\n",
    "        th_base_href = base_url + th_r[\"href\"][2:]\n",
    "        try:\n",
    "            pages_xpath = \"//a[@class='topictitle' and @href='{}']/\".format(th_r[\"href\"]) + \\\n",
    "                            \"../div[@class='pagination']/ul/li\"\n",
    "            len_pages = len(source_tree.xpath(pages_xpath))\n",
    "        except:\n",
    "            len_pages = 1\n",
    "        th_pages = [th_base_href]\n",
    "        if len_pages > 1:\n",
    "            for i in range(1, len_pages):\n",
    "                count = 15 * i\n",
    "                new_page = th_base_href + \"&start={}\".format(count)\n",
    "                th_pages.append(new_page)\n",
    "        threads_hrefs[th_title] = th_pages\n",
    "    return threads_hrefs"
   ]
  },
  {
   "cell_type": "markdown",
   "metadata": {},
   "source": [
    "Обкачиваем страницы с темами:"
   ]
  },
  {
   "cell_type": "code",
   "execution_count": 54,
   "metadata": {},
   "outputs": [],
   "source": [
    "threads_hrefs = {}\n",
    "for src_page in source_pages:\n",
    "    threads_hrefs = get_threads_and_pages(src_page, threads_hrefs)"
   ]
  },
  {
   "cell_type": "markdown",
   "metadata": {},
   "source": [
    "Вот что получилось:"
   ]
  },
  {
   "cell_type": "code",
   "execution_count": 60,
   "metadata": {},
   "outputs": [
    {
     "name": "stdout",
     "output_type": "stream",
     "text": [
      "21 octobre: prière aux confesseurs de Transylvanie\n",
      "  - http://www.forum-orthodoxe.com/~forum/viewtopic.php?f=8&t=2675&sid=d14b6f440d66fbbdf31e6b93347a8a20\n",
      "25 mars Annonciation\n",
      "  - http://www.forum-orthodoxe.com/~forum/viewtopic.php?f=8&t=1808&sid=5116e515a298362234bf135e43a884e8\n",
      "28 mars saint Gontran (I)\n",
      "  - http://www.forum-orthodoxe.com/~forum/viewtopic.php?f=8&t=1824&sid=d14b6f440d66fbbdf31e6b93347a8a20\n",
      "3ème dimanche de carême\n",
      "  - http://www.forum-orthodoxe.com/~forum/viewtopic.php?f=8&t=1802&sid=5116e515a298362234bf135e43a884e8\n",
      "Acathiste à la Mère de Dieu\n",
      "  - http://www.forum-orthodoxe.com/~forum/viewtopic.php?f=8&t=1804&sid=5116e515a298362234bf135e43a884e8\n",
      "Acathiste à saint Etienne le Grand de Moldavie\n",
      "  - http://www.forum-orthodoxe.com/~forum/viewtopic.php?f=8&t=2630&sid=d14b6f440d66fbbdf31e6b93347a8a20\n",
      "Acathistes et Canons\n",
      "  - http://www.forum-orthodoxe.com/~forum/viewtopic.php?f=8&t=1806&sid=d14b6f440d66fbbdf31e6b93347a8a20\n",
      "Dimanche de la Samaritaine\n",
      "  - http://www.forum-orthodoxe.com/~forum/viewtopic.php?f=8&t=1880&sid=d14b6f440d66fbbdf31e6b93347a8a20\n",
      "Dimanche de la Tyrophagie\n",
      "  - http://www.forum-orthodoxe.com/~forum/viewtopic.php?f=8&t=1761&sid=5116e515a298362234bf135e43a884e8\n",
      "Dimanche des Myrophores\n",
      "  - http://www.forum-orthodoxe.com/~forum/viewtopic.php?f=8&t=1865&sid=5116e515a298362234bf135e43a884e8\n",
      "Dimanche des Rameaux\n",
      "  - http://www.forum-orthodoxe.com/~forum/viewtopic.php?f=8&t=1830&sid=5116e515a298362234bf135e43a884e8\n",
      "Dimanche du Fils prodigue\n",
      "  - http://www.forum-orthodoxe.com/~forum/viewtopic.php?f=8&t=2153&sid=d14b6f440d66fbbdf31e6b93347a8a20\n",
      "Dimanche du jugement ou de carnaval\n",
      "  - http://www.forum-orthodoxe.com/~forum/viewtopic.php?f=8&t=2160&sid=d14b6f440d66fbbdf31e6b93347a8a20\n",
      "Dimanche du publicain\n",
      "  - http://www.forum-orthodoxe.com/~forum/viewtopic.php?f=8&t=1757&sid=5116e515a298362234bf135e43a884e8\n",
      "Dimanche ton 1\n",
      "  - http://www.forum-orthodoxe.com/~forum/viewtopic.php?f=8&t=1795&sid=d14b6f440d66fbbdf31e6b93347a8a20\n",
      "Dimanche ton 2\n",
      "  - http://www.forum-orthodoxe.com/~forum/viewtopic.php?f=8&t=1938&sid=d14b6f440d66fbbdf31e6b93347a8a20\n",
      "Dimanche ton 3\n",
      "  - http://www.forum-orthodoxe.com/~forum/viewtopic.php?f=8&t=1939&sid=d14b6f440d66fbbdf31e6b93347a8a20\n",
      "Dimanche ton 4\n",
      "  - http://www.forum-orthodoxe.com/~forum/viewtopic.php?f=8&t=1941&sid=d14b6f440d66fbbdf31e6b93347a8a20\n",
      "Dimanche ton 5\n",
      "  - http://www.forum-orthodoxe.com/~forum/viewtopic.php?f=8&t=1976&sid=d14b6f440d66fbbdf31e6b93347a8a20\n",
      "Dimanche ton 6\n",
      "  - http://www.forum-orthodoxe.com/~forum/viewtopic.php?f=8&t=1796&sid=5116e515a298362234bf135e43a884e8\n",
      "Dimanche ton 7\n",
      "  - http://www.forum-orthodoxe.com/~forum/viewtopic.php?f=8&t=1994&sid=d14b6f440d66fbbdf31e6b93347a8a20\n",
      "Dimanche ton 8\n",
      "  - http://www.forum-orthodoxe.com/~forum/viewtopic.php?f=8&t=1995&sid=d14b6f440d66fbbdf31e6b93347a8a20\n",
      "Ecoute des Heures et Divines Liturgies orthodoxes (Fr)\n",
      "  - http://www.forum-orthodoxe.com/~forum/viewtopic.php?f=8&t=2748&sid=d14b6f440d66fbbdf31e6b93347a8a20\n",
      "Grand Canon de St André de Crête\n",
      "  - http://www.forum-orthodoxe.com/~forum/viewtopic.php?f=8&t=1789&sid=5116e515a298362234bf135e43a884e8\n",
      "Heures et divines liturgie au Skite Sainte Foy\n",
      "  - http://www.forum-orthodoxe.com/~forum/viewtopic.php?f=8&t=2703&sid=d14b6f440d66fbbdf31e6b93347a8a20\n",
      "Horos du concile de Chalcédoine\n",
      "  - http://www.forum-orthodoxe.com/~forum/viewtopic.php?f=8&t=2428&sid=d14b6f440d66fbbdf31e6b93347a8a20\n",
      "Interdire la communion ?\n",
      "  - http://www.forum-orthodoxe.com/~forum/viewtopic.php?f=8&t=2512&sid=d14b6f440d66fbbdf31e6b93347a8a20\n",
      "Le Credo en sarde\n",
      "  - http://www.forum-orthodoxe.com/~forum/viewtopic.php?f=8&t=2572&sid=d14b6f440d66fbbdf31e6b93347a8a20\n",
      "Mention des défunts dans la prothèse (tradition roumaine)\n",
      "  - http://www.forum-orthodoxe.com/~forum/viewtopic.php?f=8&t=2381&sid=d14b6f440d66fbbdf31e6b93347a8a20\n",
      "Ménées d'Août\n",
      "  - http://www.forum-orthodoxe.com/~forum/viewtopic.php?f=8&t=2519&sid=d14b6f440d66fbbdf31e6b93347a8a20\n",
      "  - http://www.forum-orthodoxe.com/~forum/viewtopic.php?f=8&t=2519&sid=d14b6f440d66fbbdf31e6b93347a8a20&start=15\n",
      "  - http://www.forum-orthodoxe.com/~forum/viewtopic.php?f=8&t=2519&sid=d14b6f440d66fbbdf31e6b93347a8a20&start=30\n",
      "Ménées d'Octobre\n",
      "  - http://www.forum-orthodoxe.com/~forum/viewtopic.php?f=8&t=2522&sid=d14b6f440d66fbbdf31e6b93347a8a20\n",
      "  - http://www.forum-orthodoxe.com/~forum/viewtopic.php?f=8&t=2522&sid=d14b6f440d66fbbdf31e6b93347a8a20&start=15\n",
      "  - http://www.forum-orthodoxe.com/~forum/viewtopic.php?f=8&t=2522&sid=d14b6f440d66fbbdf31e6b93347a8a20&start=30\n",
      "Ménées d'avril\n",
      "  - http://www.forum-orthodoxe.com/~forum/viewtopic.php?f=8&t=2256&sid=d14b6f440d66fbbdf31e6b93347a8a20\n",
      "  - http://www.forum-orthodoxe.com/~forum/viewtopic.php?f=8&t=2256&sid=d14b6f440d66fbbdf31e6b93347a8a20&start=15\n",
      "  - http://www.forum-orthodoxe.com/~forum/viewtopic.php?f=8&t=2256&sid=d14b6f440d66fbbdf31e6b93347a8a20&start=30\n",
      "Ménées de Janvier\n",
      "  - http://www.forum-orthodoxe.com/~forum/viewtopic.php?f=8&t=2249&sid=d14b6f440d66fbbdf31e6b93347a8a20\n",
      "  - http://www.forum-orthodoxe.com/~forum/viewtopic.php?f=8&t=2249&sid=d14b6f440d66fbbdf31e6b93347a8a20&start=15\n",
      "  - http://www.forum-orthodoxe.com/~forum/viewtopic.php?f=8&t=2249&sid=d14b6f440d66fbbdf31e6b93347a8a20&start=30\n",
      "Ménées de Juillet\n",
      "  - http://www.forum-orthodoxe.com/~forum/viewtopic.php?f=8&t=2518&sid=d14b6f440d66fbbdf31e6b93347a8a20\n",
      "  - http://www.forum-orthodoxe.com/~forum/viewtopic.php?f=8&t=2518&sid=d14b6f440d66fbbdf31e6b93347a8a20&start=15\n",
      "  - http://www.forum-orthodoxe.com/~forum/viewtopic.php?f=8&t=2518&sid=d14b6f440d66fbbdf31e6b93347a8a20&start=30\n",
      "Ménées de Juin\n",
      "  - http://www.forum-orthodoxe.com/~forum/viewtopic.php?f=8&t=2516&sid=d14b6f440d66fbbdf31e6b93347a8a20\n",
      "  - http://www.forum-orthodoxe.com/~forum/viewtopic.php?f=8&t=2516&sid=d14b6f440d66fbbdf31e6b93347a8a20&start=15\n",
      "Ménées de Mai\n",
      "  - http://www.forum-orthodoxe.com/~forum/viewtopic.php?f=8&t=2515&sid=d14b6f440d66fbbdf31e6b93347a8a20\n",
      "  - http://www.forum-orthodoxe.com/~forum/viewtopic.php?f=8&t=2515&sid=d14b6f440d66fbbdf31e6b93347a8a20&start=15\n",
      "  - http://www.forum-orthodoxe.com/~forum/viewtopic.php?f=8&t=2515&sid=d14b6f440d66fbbdf31e6b93347a8a20&start=30\n",
      "Ménées de Novembre\n",
      "  - http://www.forum-orthodoxe.com/~forum/viewtopic.php?f=8&t=2523&sid=d14b6f440d66fbbdf31e6b93347a8a20\n",
      "  - http://www.forum-orthodoxe.com/~forum/viewtopic.php?f=8&t=2523&sid=d14b6f440d66fbbdf31e6b93347a8a20&start=15\n",
      "  - http://www.forum-orthodoxe.com/~forum/viewtopic.php?f=8&t=2523&sid=d14b6f440d66fbbdf31e6b93347a8a20&start=30\n",
      "Ménées de Septembre\n",
      "  - http://www.forum-orthodoxe.com/~forum/viewtopic.php?f=8&t=2521&sid=d14b6f440d66fbbdf31e6b93347a8a20\n",
      "  - http://www.forum-orthodoxe.com/~forum/viewtopic.php?f=8&t=2521&sid=d14b6f440d66fbbdf31e6b93347a8a20&start=15\n",
      "  - http://www.forum-orthodoxe.com/~forum/viewtopic.php?f=8&t=2521&sid=d14b6f440d66fbbdf31e6b93347a8a20&start=30\n",
      "Ménées de décembre\n",
      "  - http://www.forum-orthodoxe.com/~forum/viewtopic.php?f=8&t=2246&sid=d14b6f440d66fbbdf31e6b93347a8a20\n",
      "  - http://www.forum-orthodoxe.com/~forum/viewtopic.php?f=8&t=2246&sid=d14b6f440d66fbbdf31e6b93347a8a20&start=15\n",
      "  - http://www.forum-orthodoxe.com/~forum/viewtopic.php?f=8&t=2246&sid=d14b6f440d66fbbdf31e6b93347a8a20&start=30\n",
      "Ménées de février\n",
      "  - http://www.forum-orthodoxe.com/~forum/viewtopic.php?f=8&t=2252&sid=d14b6f440d66fbbdf31e6b93347a8a20\n",
      "  - http://www.forum-orthodoxe.com/~forum/viewtopic.php?f=8&t=2252&sid=d14b6f440d66fbbdf31e6b93347a8a20&start=15\n",
      "Ménées de mars\n",
      "  - http://www.forum-orthodoxe.com/~forum/viewtopic.php?f=8&t=2254&sid=d14b6f440d66fbbdf31e6b93347a8a20\n",
      "  - http://www.forum-orthodoxe.com/~forum/viewtopic.php?f=8&t=2254&sid=d14b6f440d66fbbdf31e6b93347a8a20&start=15\n",
      "  - http://www.forum-orthodoxe.com/~forum/viewtopic.php?f=8&t=2254&sid=d14b6f440d66fbbdf31e6b93347a8a20&start=30\n",
      "Office de l'agenouillement\n",
      "  - http://www.forum-orthodoxe.com/~forum/viewtopic.php?f=8&t=1900&sid=d14b6f440d66fbbdf31e6b93347a8a20\n",
      "Office à saint Photios le Grand (6 février)\n",
      "  - http://www.forum-orthodoxe.com/~forum/viewtopic.php?f=8&t=2436&sid=d14b6f440d66fbbdf31e6b93347a8a20\n",
      "PENTECOSTAIRE\n",
      "  - http://www.forum-orthodoxe.com/~forum/viewtopic.php?f=8&t=2277&sid=d14b6f440d66fbbdf31e6b93347a8a20\n",
      "  - http://www.forum-orthodoxe.com/~forum/viewtopic.php?f=8&t=2277&sid=d14b6f440d66fbbdf31e6b93347a8a20&start=15\n",
      "Pastorale de saint Tikhon contre le communisme\n",
      "  - http://www.forum-orthodoxe.com/~forum/viewtopic.php?f=8&t=2437&sid=d14b6f440d66fbbdf31e6b93347a8a20\n",
      "Pentecôte\n",
      "  - http://www.forum-orthodoxe.com/~forum/viewtopic.php?f=8&t=1899&sid=d14b6f440d66fbbdf31e6b93347a8a20\n",
      "Prière de Saint Ephrem le Syrien\n",
      "  - http://www.forum-orthodoxe.com/~forum/viewtopic.php?f=8&t=1803&sid=d14b6f440d66fbbdf31e6b93347a8a20\n",
      "Prière pour la lecture de l'Ecriture\n",
      "  - http://www.forum-orthodoxe.com/~forum/viewtopic.php?f=8&t=1800&sid=d14b6f440d66fbbdf31e6b93347a8a20\n",
      "Prière à saint Nicolas\n",
      "  - http://www.forum-orthodoxe.com/~forum/viewtopic.php?f=8&t=2416&sid=d14b6f440d66fbbdf31e6b93347a8a20\n",
      "Prière à saint Étienne\n",
      "  - http://www.forum-orthodoxe.com/~forum/viewtopic.php?f=8&t=2423&sid=d14b6f440d66fbbdf31e6b93347a8a20\n",
      "Synaxaire du dimanche de saint Grégoire Palamas\n",
      "  - http://www.forum-orthodoxe.com/~forum/viewtopic.php?f=8&t=2439&sid=d14b6f440d66fbbdf31e6b93347a8a20\n",
      "TRIODE 1\n",
      "  - http://www.forum-orthodoxe.com/~forum/viewtopic.php?f=8&t=2266&sid=d14b6f440d66fbbdf31e6b93347a8a20\n",
      "  - http://www.forum-orthodoxe.com/~forum/viewtopic.php?f=8&t=2266&sid=d14b6f440d66fbbdf31e6b93347a8a20&start=15\n",
      "  - http://www.forum-orthodoxe.com/~forum/viewtopic.php?f=8&t=2266&sid=d14b6f440d66fbbdf31e6b93347a8a20&start=30\n",
      "  - http://www.forum-orthodoxe.com/~forum/viewtopic.php?f=8&t=2266&sid=d14b6f440d66fbbdf31e6b93347a8a20&start=45\n",
      "  - http://www.forum-orthodoxe.com/~forum/viewtopic.php?f=8&t=2266&sid=d14b6f440d66fbbdf31e6b93347a8a20&start=60\n",
      "  - http://www.forum-orthodoxe.com/~forum/viewtopic.php?f=8&t=2266&sid=d14b6f440d66fbbdf31e6b93347a8a20&start=75\n",
      "  - http://www.forum-orthodoxe.com/~forum/viewtopic.php?f=8&t=2266&sid=d14b6f440d66fbbdf31e6b93347a8a20&start=90\n",
      "TRIODE 2\n",
      "  - http://www.forum-orthodoxe.com/~forum/viewtopic.php?f=8&t=2273&sid=d14b6f440d66fbbdf31e6b93347a8a20\n",
      "  - http://www.forum-orthodoxe.com/~forum/viewtopic.php?f=8&t=2273&sid=d14b6f440d66fbbdf31e6b93347a8a20&start=15\n",
      "  - http://www.forum-orthodoxe.com/~forum/viewtopic.php?f=8&t=2273&sid=d14b6f440d66fbbdf31e6b93347a8a20&start=30\n",
      "  - http://www.forum-orthodoxe.com/~forum/viewtopic.php?f=8&t=2273&sid=d14b6f440d66fbbdf31e6b93347a8a20&start=45\n",
      "Théotokia\n",
      "  - http://www.forum-orthodoxe.com/~forum/viewtopic.php?f=8&t=2247&sid=d14b6f440d66fbbdf31e6b93347a8a20\n",
      "Transfiguration 6 aout\n",
      "  - http://www.forum-orthodoxe.com/~forum/viewtopic.php?f=8&t=2000&sid=d14b6f440d66fbbdf31e6b93347a8a20\n",
      "Triode, précarême\n",
      "  - http://www.forum-orthodoxe.com/~forum/viewtopic.php?f=8&t=2263&sid=d14b6f440d66fbbdf31e6b93347a8a20\n",
      "Vêpres du Pardon\n",
      "  - http://www.forum-orthodoxe.com/~forum/viewtopic.php?f=8&t=1779&sid=5116e515a298362234bf135e43a884e8\n",
      "deuxième dimanche de carême\n",
      "  - http://www.forum-orthodoxe.com/~forum/viewtopic.php?f=8&t=1794&sid=5116e515a298362234bf135e43a884e8\n",
      "office à tous les saints orthodoxes de France:\n",
      "  - http://www.forum-orthodoxe.com/~forum/viewtopic.php?f=8&t=1935&sid=d14b6f440d66fbbdf31e6b93347a8a20\n",
      "premier dimanche de carême\n",
      "  - http://www.forum-orthodoxe.com/~forum/viewtopic.php?f=8&t=1790&sid=d14b6f440d66fbbdf31e6b93347a8a20\n"
     ]
    }
   ],
   "source": [
    "for title in sorted(threads_hrefs):\n",
    "    print(\"{}\\n  - {}\".format(title, \"\\n  - \".join(threads_hrefs[title])))"
   ]
  },
  {
   "cell_type": "markdown",
   "metadata": {},
   "source": [
    "Сохраняем результаты работы:"
   ]
  },
  {
   "cell_type": "code",
   "execution_count": null,
   "metadata": {},
   "outputs": [],
   "source": [
    "import json"
   ]
  },
  {
   "cell_type": "code",
   "execution_count": 61,
   "metadata": {},
   "outputs": [],
   "source": [
    "with open(\"./textes_orthodoxes_fr/links.json\", \"w\", encoding=\"utf-8\") as backup:\n",
    "    json.dump(threads_hrefs, backup)"
   ]
  },
  {
   "cell_type": "markdown",
   "metadata": {},
   "source": [
    "## Вытаскиваем тексты"
   ]
  },
  {
   "cell_type": "markdown",
   "metadata": {},
   "source": [
    "Для каждой ветки, которая у нас лежит в `threads_hrefs`, нужно:\n",
    "\n",
    "1) скачать только BeautifulSoup версию страницы (`needs_lxml=False`);\n",
    "\n",
    "2) вычленить только те куски HTML-кода, в которых находится текст сообщений, чтобы не собрать лишнее;\n",
    "\n",
    "3) из этих кусков вытащить текст (`.get_text()`): один HTML-кусок = одно сообщение — и сложить всё это в общий список сообщений;\n",
    "\n",
    "4) сообщения собрать в одну строку с каким-нибудь разделителем (например, `\\n===\\n`);\n",
    "\n",
    "5) сохранить получившийся результат в файл `.txt` с названием обработанной ветки."
   ]
  },
  {
   "cell_type": "code",
   "execution_count": 64,
   "metadata": {},
   "outputs": [
    {
     "name": "stderr",
     "output_type": "stream",
     "text": [
      "100%|██████████| 60/60 [00:52<00:00,  1.14it/s]\n"
     ]
    }
   ],
   "source": [
    "for title in tqdm(threads_hrefs):\n",
    "    thread_pages = threads_hrefs[title]\n",
    "    parsed_texts = []\n",
    "    for page in thread_pages:\n",
    "        page_soup = parse_page(page)\n",
    "        for i, item in enumerate(page_soup.findAll(\"div\",attrs={\"class\":\"content\"})):\n",
    "            parsed = re.sub(\"\\n{2,}\", \"\\n\", item.get_text())\n",
    "            parsed_texts.append(parsed)\n",
    "    full_post_text = \"\\n===\\n\".join(parsed_texts)\n",
    "    with open(\"./textes_orthodoxes_fr/{}.txt\".format(title), \"w\", encoding=\"utf-8\") as f:\n",
    "        f.write(full_post_text)"
   ]
  },
  {
   "cell_type": "markdown",
   "metadata": {},
   "source": [
    "Последняя версия корпуса на моём гугл-диске: [клик!](https://drive.google.com/file/d/1cdxhhk2v94nCEfLG3RcHY1USUa0R2B6T/view?usp=sharing)"
   ]
  }
 ],
 "metadata": {
  "kernelspec": {
   "display_name": "Python 3",
   "language": "python",
   "name": "python3"
  },
  "language_info": {
   "codemirror_mode": {
    "name": "ipython",
    "version": 3
   },
   "file_extension": ".py",
   "mimetype": "text/x-python",
   "name": "python",
   "nbconvert_exporter": "python",
   "pygments_lexer": "ipython3",
   "version": "3.6.8"
  }
 },
 "nbformat": 4,
 "nbformat_minor": 2
}
